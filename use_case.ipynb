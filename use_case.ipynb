{
 "cells": [
  {
   "cell_type": "code",
   "execution_count": 2,
   "metadata": {},
   "outputs": [],
   "source": [
    "from BNReasoner import BNReasoner\n"
   ]
  },
  {
   "cell_type": "code",
   "execution_count": 3,
   "metadata": {},
   "outputs": [
    {
     "name": "stderr",
     "output_type": "stream",
     "text": [
      "c:\\Users\\anton\\OneDrive\\Documents\\Uni\\KR21_project2\\BNReasoner.py:262: FutureWarning: The default dtype for empty Series will be 'object' instead of 'float64' in a future version. Specify a dtype explicitly to silence this warning.\n",
      "  new_cpt = self.bn.reduce_factor_rem_row(pd.Series(evidence), cpt[1])\n",
      "c:\\Users\\anton\\OneDrive\\Documents\\Uni\\KR21_project2\\BNReasoner.py:262: FutureWarning: The default dtype for empty Series will be 'object' instead of 'float64' in a future version. Specify a dtype explicitly to silence this warning.\n",
      "  new_cpt = self.bn.reduce_factor_rem_row(pd.Series(evidence), cpt[1])\n",
      "c:\\Users\\anton\\OneDrive\\Documents\\Uni\\KR21_project2\\BNReasoner.py:262: FutureWarning: The default dtype for empty Series will be 'object' instead of 'float64' in a future version. Specify a dtype explicitly to silence this warning.\n",
      "  new_cpt = self.bn.reduce_factor_rem_row(pd.Series(evidence), cpt[1])\n",
      "c:\\Users\\anton\\OneDrive\\Documents\\Uni\\KR21_project2\\BNReasoner.py:262: FutureWarning: The default dtype for empty Series will be 'object' instead of 'float64' in a future version. Specify a dtype explicitly to silence this warning.\n",
      "  new_cpt = self.bn.reduce_factor_rem_row(pd.Series(evidence), cpt[1])\n",
      "c:\\Users\\anton\\OneDrive\\Documents\\Uni\\KR21_project2\\BNReasoner.py:262: FutureWarning: The default dtype for empty Series will be 'object' instead of 'float64' in a future version. Specify a dtype explicitly to silence this warning.\n",
      "  new_cpt = self.bn.reduce_factor_rem_row(pd.Series(evidence), cpt[1])\n",
      "c:\\Users\\anton\\OneDrive\\Documents\\Uni\\KR21_project2\\BNReasoner.py:262: FutureWarning: The default dtype for empty Series will be 'object' instead of 'float64' in a future version. Specify a dtype explicitly to silence this warning.\n",
      "  new_cpt = self.bn.reduce_factor_rem_row(pd.Series(evidence), cpt[1])\n",
      "c:\\Users\\anton\\OneDrive\\Documents\\Uni\\KR21_project2\\BNReasoner.py:262: FutureWarning: The default dtype for empty Series will be 'object' instead of 'float64' in a future version. Specify a dtype explicitly to silence this warning.\n",
      "  new_cpt = self.bn.reduce_factor_rem_row(pd.Series(evidence), cpt[1])\n",
      "c:\\Users\\anton\\OneDrive\\Documents\\Uni\\KR21_project2\\BNReasoner.py:262: FutureWarning: The default dtype for empty Series will be 'object' instead of 'float64' in a future version. Specify a dtype explicitly to silence this warning.\n",
      "  new_cpt = self.bn.reduce_factor_rem_row(pd.Series(evidence), cpt[1])\n",
      "c:\\Users\\anton\\OneDrive\\Documents\\Uni\\KR21_project2\\BNReasoner.py:262: FutureWarning: The default dtype for empty Series will be 'object' instead of 'float64' in a future version. Specify a dtype explicitly to silence this warning.\n",
      "  new_cpt = self.bn.reduce_factor_rem_row(pd.Series(evidence), cpt[1])\n",
      "c:\\Users\\anton\\OneDrive\\Documents\\Uni\\KR21_project2\\BNReasoner.py:262: FutureWarning: The default dtype for empty Series will be 'object' instead of 'float64' in a future version. Specify a dtype explicitly to silence this warning.\n",
      "  new_cpt = self.bn.reduce_factor_rem_row(pd.Series(evidence), cpt[1])\n",
      "c:\\Users\\anton\\OneDrive\\Documents\\Uni\\KR21_project2\\BNReasoner.py:262: FutureWarning: The default dtype for empty Series will be 'object' instead of 'float64' in a future version. Specify a dtype explicitly to silence this warning.\n",
      "  new_cpt = self.bn.reduce_factor_rem_row(pd.Series(evidence), cpt[1])\n"
     ]
    },
    {
     "data": {
      "text/html": [
       "<div>\n",
       "<style scoped>\n",
       "    .dataframe tbody tr th:only-of-type {\n",
       "        vertical-align: middle;\n",
       "    }\n",
       "\n",
       "    .dataframe tbody tr th {\n",
       "        vertical-align: top;\n",
       "    }\n",
       "\n",
       "    .dataframe thead th {\n",
       "        text-align: right;\n",
       "    }\n",
       "</style>\n",
       "<table border=\"1\" class=\"dataframe\">\n",
       "  <thead>\n",
       "    <tr style=\"text-align: right;\">\n",
       "      <th></th>\n",
       "      <th>Player_beats_level</th>\n",
       "      <th>p</th>\n",
       "    </tr>\n",
       "  </thead>\n",
       "  <tbody>\n",
       "    <tr>\n",
       "      <th>0</th>\n",
       "      <td>False</td>\n",
       "      <td>0.397976</td>\n",
       "    </tr>\n",
       "    <tr>\n",
       "      <th>1</th>\n",
       "      <td>True</td>\n",
       "      <td>0.602024</td>\n",
       "    </tr>\n",
       "  </tbody>\n",
       "</table>\n",
       "</div>"
      ],
      "text/plain": [
       "   Player_beats_level         p\n",
       "0               False  0.397976\n",
       "1                True  0.602024"
      ]
     },
     "execution_count": 3,
     "metadata": {},
     "output_type": "execute_result"
    }
   ],
   "source": [
    "bnr = BNReasoner(\"testing/Videogame.BIFXML\")\n",
    "bnr.compute_marginal_distribution([\"Player_beats_level\"], {})"
   ]
  },
  {
   "cell_type": "code",
   "execution_count": 6,
   "metadata": {},
   "outputs": [
    {
     "data": {
      "text/html": [
       "<div>\n",
       "<style scoped>\n",
       "    .dataframe tbody tr th:only-of-type {\n",
       "        vertical-align: middle;\n",
       "    }\n",
       "\n",
       "    .dataframe tbody tr th {\n",
       "        vertical-align: top;\n",
       "    }\n",
       "\n",
       "    .dataframe thead th {\n",
       "        text-align: right;\n",
       "    }\n",
       "</style>\n",
       "<table border=\"1\" class=\"dataframe\">\n",
       "  <thead>\n",
       "    <tr style=\"text-align: right;\">\n",
       "      <th></th>\n",
       "      <th>Difficult_enemies</th>\n",
       "      <th>p</th>\n",
       "    </tr>\n",
       "  </thead>\n",
       "  <tbody>\n",
       "    <tr>\n",
       "      <th>0</th>\n",
       "      <td>False</td>\n",
       "      <td>0.319971</td>\n",
       "    </tr>\n",
       "    <tr>\n",
       "      <th>1</th>\n",
       "      <td>True</td>\n",
       "      <td>0.680029</td>\n",
       "    </tr>\n",
       "  </tbody>\n",
       "</table>\n",
       "</div>"
      ],
      "text/plain": [
       "   Difficult_enemies         p\n",
       "0              False  0.319971\n",
       "1               True  0.680029"
      ]
     },
     "execution_count": 6,
     "metadata": {},
     "output_type": "execute_result"
    }
   ],
   "source": [
    "bnr = BNReasoner(\"testing/Videogame.BIFXML\")\n",
    "bnr.compute_marginal_distribution(['Difficult_enemies'], {\"Player_skills_match_enemies\": True, \"Player_beats_level\": False})"
   ]
  },
  {
   "cell_type": "code",
   "execution_count": 8,
   "metadata": {},
   "outputs": [
    {
     "data": {
      "text/plain": [
       "(0.11434500000000002,\n",
       " {'General_skills': False,\n",
       "  'Non-combat_related_obstacles': False,\n",
       "  'Good_stats': False,\n",
       "  'Player_skills_match_enemies': True,\n",
       "  'Difficult_enemies': True,\n",
       "  'Multiple_specific_skills': False,\n",
       "  'Level_difficulty': True})"
      ]
     },
     "execution_count": 8,
     "metadata": {},
     "output_type": "execute_result"
    }
   ],
   "source": [
    "bnr = BNReasoner(\"testing/Videogame.BIFXML\")\n",
    "bnr.maximum_a_posteriori([\"Good_stats\",\n",
    "                        \"General_skills\", \n",
    "                        \"Multiple_specific_skills\", \n",
    "                        \"Level_difficulty\", \n",
    "                        \"Difficult_enemies\", \n",
    "                        \"Non-combat_related_obstacles\", \n",
    "                        \"Player_skills_match_enemies\"], \n",
    "{\"Player_beats_level\": False})"
   ]
  },
  {
   "cell_type": "code",
   "execution_count": 10,
   "metadata": {},
   "outputs": [
    {
     "data": {
      "text/plain": [
       "(0.03366,\n",
       " {'Multiple_specific_skills': False,\n",
       "  'Skill_specific_enemies': False,\n",
       "  'Player_skills_match_enemies': True,\n",
       "  'Regular_player': False,\n",
       "  'General_skills': False,\n",
       "  'Good_stats': False,\n",
       "  'Difficult_enemies': True,\n",
       "  'Player_beats_enemies': False,\n",
       "  'Player_beats_level': False,\n",
       "  'Level_difficulty': True,\n",
       "  'Non-combat_related_obstacles': True})"
      ]
     },
     "execution_count": 10,
     "metadata": {},
     "output_type": "execute_result"
    }
   ],
   "source": [
    "bnr = BNReasoner(\"testing/Videogame.BIFXML\")\n",
    "bnr.most_probable_explanation({\"Player_beats_level\": False, \"Non-combat_related_obstacles\": True})"
   ]
  }
 ],
 "metadata": {
  "kernelspec": {
   "display_name": "Python 3",
   "language": "python",
   "name": "python3"
  },
  "language_info": {
   "codemirror_mode": {
    "name": "ipython",
    "version": 3
   },
   "file_extension": ".py",
   "mimetype": "text/x-python",
   "name": "python",
   "nbconvert_exporter": "python",
   "pygments_lexer": "ipython3",
   "version": "3.9.6"
  },
  "orig_nbformat": 4,
  "vscode": {
   "interpreter": {
    "hash": "81794d4967e6c3204c66dcd87b604927b115b27c00565d3d43f05ba2f3a2cb0d"
   }
  }
 },
 "nbformat": 4,
 "nbformat_minor": 2
}
